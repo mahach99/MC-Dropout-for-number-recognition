{
  "nbformat": 4,
  "nbformat_minor": 0,
  "metadata": {
    "colab": {
      "provenance": []
    },
    "kernelspec": {
      "name": "python3",
      "display_name": "Python 3"
    },
    "language_info": {
      "name": "python"
    }
  },
  "cells": [
    {
      "cell_type": "code",
      "source": [
        "from google.colab import drive\n",
        "drive.mount('/content/drive')\n"
      ],
      "metadata": {
        "colab": {
          "base_uri": "https://localhost:8080/"
        },
        "id": "6wL7ezV-4k64",
        "outputId": "7c0618c9-3199-4c5b-ba49-13d2ed60a011"
      },
      "execution_count": 1,
      "outputs": [
        {
          "output_type": "stream",
          "name": "stdout",
          "text": [
            "Mounted at /content/drive\n"
          ]
        }
      ]
    },
    {
      "cell_type": "code",
      "source": [
        "# Pip install method (recommended)\n",
        "\n",
        "!pip install ultralytics==8.0.20\n",
        "\n",
        "from IPython import display\n",
        "display.clear_output()\n",
        "\n",
        "import ultralytics\n",
        "ultralytics.checks()\n"
      ],
      "metadata": {
        "colab": {
          "base_uri": "https://localhost:8080/"
        },
        "id": "PGl1xtAR4h6p",
        "outputId": "9d3e6346-8312-4492-b56b-5a6c293971ac"
      },
      "execution_count": 2,
      "outputs": [
        {
          "output_type": "stream",
          "name": "stderr",
          "text": [
            "Ultralytics YOLOv8.0.20 🚀 Python-3.10.12 torch-2.0.1+cu118 CPU\n",
            "Setup complete ✅ (2 CPUs, 12.7 GB RAM, 26.3/225.8 GB disk)\n"
          ]
        }
      ]
    },
    {
      "cell_type": "code",
      "source": [
        "from ultralytics import YOLO\n",
        "\n",
        "from IPython.display import display, Image"
      ],
      "metadata": {
        "id": "rm3UqFdm4oIn"
      },
      "execution_count": 3,
      "outputs": []
    },
    {
      "cell_type": "code",
      "execution_count": 4,
      "metadata": {
        "colab": {
          "base_uri": "https://localhost:8080/"
        },
        "id": "KYufZ4cm4ZI0",
        "outputId": "b7c5c0ba-1919-4a3f-eba3-7c79dff2033f"
      },
      "outputs": [
        {
          "output_type": "stream",
          "name": "stdout",
          "text": [
            "2023-08-24 09:57:40.615273: I tensorflow/core/platform/cpu_feature_guard.cc:182] This TensorFlow binary is optimized to use available CPU instructions in performance-critical operations.\n",
            "To enable the following instructions: AVX2 FMA, in other operations, rebuild TensorFlow with the appropriate compiler flags.\n",
            "2023-08-24 09:57:44.375845: W tensorflow/compiler/tf2tensorrt/utils/py_utils.cc:38] TF-TRT Warning: Could not find TensorRT\n",
            "Ultralytics YOLOv8.0.20 🚀 Python-3.10.12 torch-2.0.1+cu118 CPU\n",
            "Model summary (fused): 168 layers, 11129454 parameters, 0 gradients, 28.5 GFLOPs\n",
            "image 1/1 /content/drive/MyDrive/emb5.png: 800x544 1 0, 1 1, 1 3, 1 6, 1 7, 1 8, 1 9, 935.3ms\n",
            "Speed: 6.3ms pre-process, 935.3ms inference, 27.4ms postprocess per image at shape (1, 3, 800, 800)\n",
            "Results saved to \u001b[1mruns/detect/predict\u001b[0m\n",
            "1 label saved to runs/detect/predict/labels\n"
          ]
        }
      ],
      "source": [
        "!yolo task=detect mode=predict model=\"/content/drive/MyDrive/best.pt\"  conf=0.25 source=\"/content/drive/MyDrive/emb5.png\" save=True save_txt=True save_conf=True"
      ]
    },
    {
      "cell_type": "code",
      "source": [
        "import math\n",
        "\n",
        "def calculate_distance(box1, box2):\n",
        "    x1, y1, _, _ = box1\n",
        "    x2, y2, _, _ = box2\n",
        "    distance = math.sqrt((x2 - x1)**2 + (y2 - y1)**2)\n",
        "    return distance\n",
        "\n",
        "def reorder_and_calculate_distances(input_file_path, output_file_path):\n",
        "    with open(input_file_path, 'r') as file:\n",
        "        lines = file.readlines()\n",
        "\n",
        "    boxes = []\n",
        "    for line in lines:\n",
        "        data = line.strip().split()\n",
        "        # Assuming the format: <object-class> <x> <y> <width> <height> <confidence>\n",
        "        class_name = data[0]\n",
        "        x = float(data[1])\n",
        "        y = float(data[2])\n",
        "        width = float(data[3])\n",
        "        height = float(data[4])\n",
        "        box = (class_name, x, y, width, height)\n",
        "        boxes.append(box)\n",
        "\n",
        "    sorted_boxes = sorted(boxes, key=lambda box: (box[2], box[3]))\n",
        "\n",
        "    distances = []\n",
        "    with open(output_file_path, 'w') as output_file:\n",
        "        for i in range(len(sorted_boxes) - 1):\n",
        "            distance = calculate_distance(sorted_boxes[i][1:], sorted_boxes[i+1][1:])\n",
        "            if distance > 0.3:\n",
        "                print(f\"Warning: Distance between boxes {i} and {i+1} is greater than 0.1: {distance}\")\n",
        "            distances.append(distance)\n",
        "\n",
        "        # Write the sorted boxes in reverse order to the output file\n",
        "        for box in reversed(sorted_boxes):\n",
        "            class_name, x, y, width, height = box\n",
        "            output_file.write(f\"{class_name} {x} {y} {width} {height}\\n\")\n",
        "\n",
        "    return distances\n",
        "\n",
        "# Example usage\n",
        "input_file_path = '/content/drive/MyDrive/emb5.txt'\n",
        "output_file_path = '/content/drive/MyDrive/emb5_reordered.txt'\n",
        "distances = reorder_and_calculate_distances(input_file_path, output_file_path)\n",
        "for distance in distances:\n",
        "    print(distance)\n",
        "\n"
      ],
      "metadata": {
        "colab": {
          "base_uri": "https://localhost:8080/"
        },
        "id": "1Ps1C-D_9P2Z",
        "outputId": "233356e9-cef7-4820-a20e-5f5c67652fa7"
      },
      "execution_count": 12,
      "outputs": [
        {
          "output_type": "stream",
          "name": "stdout",
          "text": [
            "0.11989501375787064\n",
            "0.21772384340948972\n",
            "0.11256388998697588\n",
            "0.14271262426639064\n",
            "0.08119192514653166\n",
            "0.05503367195635775\n"
          ]
        }
      ]
    },
    {
      "cell_type": "code",
      "source": [
        "def create_xml_annotation(image_filename, image_width, image_height, boxes, output_path):\n",
        "    xml_content = f'''<annotation>\n",
        "    <folder>FH-OG-OCR-Images</folder>\n",
        "    <filename>{image_filename}</filename>\n",
        "    <path>/home/student/Downloads/FH-OG-OCR-Janoschka-Images/FH-OG-OCR-Images/{image_filename}</path>\n",
        "    <source>\n",
        "        <database>Unknown</database>\n",
        "    </source>\n",
        "    <size>\n",
        "        <width>{image_width}</width>\n",
        "        <height>{image_height}</height>\n",
        "        <depth>3</depth>\n",
        "    </size>\n",
        "    <segmented>0</segmented>\n",
        "    '''\n",
        "\n",
        "    for class_name, box in boxes:\n",
        "        x_center, y_center, width, height = box\n",
        "        xmin = int((x_center - width / 2) * image_width)\n",
        "        ymin = int((y_center - height / 2) * image_height)\n",
        "        xmax = int((x_center + width / 2) * image_width)\n",
        "        ymax = int((y_center + height / 2) * image_height)\n",
        "\n",
        "        xml_content += f'''<object>\n",
        "        <name>{class_name}</name>\n",
        "        <pose>Unspecified</pose>\n",
        "        <truncated>0</truncated>\n",
        "        <difficult>0</difficult>\n",
        "        <bndbox>\n",
        "            <xmin>{xmin}</xmin>\n",
        "            <ymin>{ymin}</ymin>\n",
        "            <xmax>{xmax}</xmax>\n",
        "            <ymax>{ymax}</ymax>\n",
        "        </bndbox>\n",
        "        </object>\n",
        "        '''\n",
        "\n",
        "    xml_content += '</annotation>'\n",
        "\n",
        "    with open(output_path, 'w') as output_file:\n",
        "        output_file.write(xml_content)\n",
        "\n",
        "# Read ordered bounding box information with class names from a text file\n",
        "input_txt_path = '/content/drive/MyDrive/emb5_reordered.txt'\n",
        "boxes = []\n",
        "with open(input_txt_path, 'r') as input_file:\n",
        "    for line in input_file:\n",
        "        class_name, x_center, y_center, width, height = line.strip().split()\n",
        "        class_name = int(class_name)\n",
        "        x_center, y_center, width, height = map(float, (x_center, y_center, width, height))\n",
        "        boxes.append((class_name, (x_center, y_center, width, height)))\n",
        "\n",
        "# Example usage\n",
        "image_filename = 'emb5.png'\n",
        "image_width = 522\n",
        "image_height = 800\n",
        "output_xml_path = '/content/drive/MyDrive/emb5_annotation.xml'\n",
        "\n",
        "create_xml_annotation(image_filename, image_width, image_height, boxes, output_xml_path)\n",
        "\n"
      ],
      "metadata": {
        "id": "QS-Ni-XEDklA"
      },
      "execution_count": 13,
      "outputs": []
    },
    {
      "cell_type": "code",
      "source": [
        "import tensorflow as tf\n",
        "from tensorflow.keras.models import load_model\n",
        "from tensorflow.keras.preprocessing.image import img_to_array\n",
        "from PIL import Image\n",
        "\n",
        "arr_out = []\n",
        "arr_result = ['0','1','2','3','4','5','6','7','8','9']\n",
        "# Define the Monte Carlo Dropout layer\n",
        "class MonteCarloDropout(tf.keras.layers.Dropout):\n",
        "    def dropped_inputs(self, inputs, training=None):\n",
        "        return super().call(inputs, training=training)\n",
        "\n",
        "# Register the custom layer\n",
        "tf.keras.utils.get_custom_objects()['MonteCarloDropout'] = MonteCarloDropout\n",
        "\n",
        "# Load the trained model\n",
        "model = load_model('/content/drive/MyDrive/modelweightbalanceddata.h5')"
      ],
      "metadata": {
        "id": "qRlITFhqHI_S"
      },
      "execution_count": 15,
      "outputs": []
    },
    {
      "cell_type": "code",
      "source": [
        "\n",
        "import xml.etree.ElementTree as ET\n",
        "import cv2\n",
        "import numpy as np\n",
        "from tensorflow.keras.models import load_model\n",
        "from tensorflow.keras.preprocessing.image import img_to_array\n",
        "\n",
        "def process_xml(xml_file):\n",
        "    tree = ET.parse(xml_file)\n",
        "    root = tree.getroot()\n",
        "\n",
        "    rois = []\n",
        "    for obj in root.iter('object'):\n",
        "        xmin = int(obj.find('bndbox/xmin').text)\n",
        "        ymin = int(obj.find('bndbox/ymin').text)\n",
        "        xmax = int(obj.find('bndbox/xmax').text)\n",
        "        ymax = int(obj.find('bndbox/ymax').text)\n",
        "        rois.append((xmin, ymin, xmax - xmin, ymax - ymin))\n",
        "\n",
        "    return rois\n",
        "\n",
        "def visualize_image_with_rois(image_file, rois):\n",
        "    image = cv2.imread(image_file, cv2.IMREAD_GRAYSCALE)\n",
        "    image = cv2.cvtColor(image, cv2.COLOR_GRAY2BGR)\n",
        "\n",
        "    for roi in rois:\n",
        "        x, y, w, h = roi\n",
        "        cv2.rectangle(image, (x, y), (x+w, y+h), (0, 255, 0), 2)\n",
        "\n",
        "\n",
        "\n",
        "# Example usage\n",
        "xml_file = '/content/drive/MyDrive/emb5_annotation.xml'\n",
        "image_file = '/content/drive/MyDrive/emb5.png'\n",
        "\n",
        "rois = process_xml(xml_file)\n",
        "visualize_image_with_rois(image_file, rois)\n",
        "\n",
        "# Batch inference\n",
        "batch_rois = []\n",
        "for roi in rois:\n",
        "    x, y, w, h = roi\n",
        "    roi_image = cv2.imread(image_file, cv2.IMREAD_GRAYSCALE)[y:y+h, x:x+w]\n",
        "    roi_image = cv2.resize(roi_image, (64, 64), interpolation=cv2.INTER_AREA)\n",
        "    roi_image = np.expand_dims(roi_image, axis=-1)\n",
        "    roi_image = roi_image / 255.0  # Normalize the pixel values\n",
        "\n",
        "    batch_rois.append(roi_image)\n",
        "\n",
        "# Convert the batch_rois list to a numpy array\n",
        "batch_rois = np.array(batch_rois)\n",
        "# Perform prediction using the model on the batch\n",
        "predictions = model.predict(batch_rois)\n",
        "\n",
        "# Initialize a dictionary to store class probabilities\n",
        "class_probabilities = {}\n",
        "\n",
        "# Process the predictions\n",
        "for i, roi in enumerate(rois):\n",
        "    prediction = predictions[i]\n",
        "    class_label = arr_result[np.argmax(prediction)]\n",
        "\n",
        "    if class_label not in class_probabilities:\n",
        "        class_probabilities[class_label] = []\n",
        "\n",
        "    class_probabilities[class_label].append(prediction.tolist())\n",
        "\n",
        "# Print the class probabilities\n",
        "for class_label, probabilities in class_probabilities.items():\n",
        "    probabilities = np.mean(probabilities, axis=0)\n",
        "    probabilities_formatted = [f\"{prob:.4f}\" for prob in probabilities]\n",
        "    probabilities_str = \", \".join(probabilities_formatted)\n",
        "    print(f\"Class {class_label} probabilities: {probabilities_str}\")\n"
      ],
      "metadata": {
        "colab": {
          "base_uri": "https://localhost:8080/"
        },
        "id": "lELE9qTkHJ1J",
        "outputId": "1a075062-e276-4a57-caf2-b64f1496d0da"
      },
      "execution_count": 16,
      "outputs": [
        {
          "output_type": "stream",
          "name": "stdout",
          "text": [
            "1/1 [==============================] - 1s 714ms/step\n",
            "Class 7 probabilities: 0.0001, 0.0065, 0.0011, 0.0007, 0.0016, 0.0000, 0.0000, 0.9899, 0.0000, 0.0000\n",
            "Class 1 probabilities: 0.0011, 0.9330, 0.0004, 0.0000, 0.0036, 0.0000, 0.0001, 0.0617, 0.0001, 0.0001\n",
            "Class 8 probabilities: 0.0000, 0.0000, 0.0000, 0.0001, 0.0000, 0.0000, 0.0000, 0.0000, 0.9999, 0.0000\n",
            "Class 0 probabilities: 0.9999, 0.0000, 0.0000, 0.0000, 0.0000, 0.0000, 0.0000, 0.0000, 0.0000, 0.0001\n",
            "Class 6 probabilities: 0.0000, 0.0000, 0.0000, 0.0028, 0.0000, 0.0016, 0.9226, 0.0000, 0.0004, 0.0727\n",
            "Class 9 probabilities: 0.0012, 0.0000, 0.0002, 0.0000, 0.0000, 0.0032, 0.0493, 0.0000, 0.0000, 0.9461\n",
            "Class 3 probabilities: 0.0000, 0.0000, 0.0000, 0.9992, 0.0000, 0.0005, 0.0000, 0.0000, 0.0001, 0.0000\n"
          ]
        }
      ]
    }
  ]
}